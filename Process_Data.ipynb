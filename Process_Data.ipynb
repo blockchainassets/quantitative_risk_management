{
 "cells": [
  {
   "cell_type": "code",
   "execution_count": 1,
   "metadata": {},
   "outputs": [
    {
     "name": "stdout",
     "output_type": "stream",
     "text": [
      "importing Jupyter notebook from import_data.ipynb\n"
     ]
    }
   ],
   "source": [
    "import import_ipynb\n",
    "from import_data import get_all_binance\n",
    "import matplotlib.pyplot as plt\n",
    "import pandas as pd\n",
    "import numpy as np"
   ]
  },
  {
   "cell_type": "code",
   "execution_count": 2,
   "metadata": {},
   "outputs": [],
   "source": [
    "def init():    \n",
    "    global tokens\n",
    "    tokens = {}\n",
    "    tokens['Bitcoin'] = {'symbol':'BTC',\n",
    "                         'Reference':'https://bitcoin.org/en/'\n",
    "                        }\n",
    "    tokens['Ethereum'] = {'symbol':'ETH',\n",
    "                         'Reference':'https://ethereum.org'\n",
    "                        }\n",
    "    tokens['Litecoin'] = {'symbol':'LTC',\n",
    "                         'Reference':'https://litecoin.org'\n",
    "                        }\n",
    "    tokens['Cardano'] = {'symbol':'ADA',\n",
    "                         'Reference':'https://www.cardano.org/en/home/'\n",
    "                        }\n",
    "    tokens['Ripple'] = {'symbol':'XRP',\n",
    "                         'Reference':'https://ripple.com'\n",
    "                        }\n",
    "    tokens['EOSIO'] = {'symbol':'EOS',\n",
    "                         'Reference':'https://eos.io'\n",
    "                        }\n",
    "    tokens['IOTA'] = {'symbol':'IOTA',\n",
    "                         'Reference':'https://www.iota.org'\n",
    "                        }\n",
    "    tokens['Stellar'] = {'symbol':'XLM',\n",
    "                         'Reference':'https://www.stellar.org'\n",
    "                        }\n",
    "    tokens['Tron'] = {'symbol':'TRX',\n",
    "                         'Reference':'https://tron.network'\n",
    "                        }\n",
    "    tokens['Chainlink'] = {'symbol':'LINK',\n",
    "                         'Reference':'https://chain.link'\n",
    "                        }\n",
    "    tokens['Monero'] = {'symbol':'XMR',\n",
    "                         'Reference':'https://www.getmonero.org'\n",
    "                        }\n",
    "    tokens['Dash'] = {'symbol':'DASH',\n",
    "                         'Reference':'https://www.dash.org'\n",
    "                        }\n",
    "    tokens['Tezos'] = {'symbol':'XTZ',\n",
    "                         'Reference':'https://www.tezos.com'\n",
    "                        }\n",
    "\n",
    "    global tickers\n",
    "    tickers = []\n",
    "    for token in tokens:\n",
    "        tickers.append(tokens[token]['symbol']+'USDT')"
   ]
  },
  {
   "cell_type": "code",
   "execution_count": 3,
   "metadata": {},
   "outputs": [],
   "source": [
    "def update_data():\n",
    "    for symbol in tickers:\n",
    "        get_all_binance(symbol, '1d', save = True)"
   ]
  },
  {
   "cell_type": "code",
   "execution_count": 4,
   "metadata": {},
   "outputs": [],
   "source": [
    "def show_tokens():\n",
    "    print('The following are the available tokens to build your portfolio:\\n')\n",
    "    print(\"%10s %10s %40s\" % ('Name','Symbol', 'Reference'))\n",
    "    print('-'*62)\n",
    "    for token in tokens:\n",
    "        #print(token +'\\t\\t'+ tokens[token]['symbol'] +'\\t\\t'+ tokens[token]['Reference'])\n",
    "        print(\"%10s %10s %40s\" % (token,tokens[token]['symbol'],tokens[token]['Reference']))"
   ]
  },
  {
   "cell_type": "code",
   "execution_count": 5,
   "metadata": {},
   "outputs": [],
   "source": [
    "def open_prices():\n",
    "    complete_data = {}\n",
    "    for ticker in tickers:\n",
    "        complete_data[ticker] = pd.read_csv(ticker+'-1d-data.csv')[['timestamp', 'open']]\n",
    "        complete_data[ticker].rename(columns = {'open':ticker}, inplace=True)\n",
    "    \n",
    "    open_price_data = complete_data[tickers[0]][['timestamp']]\n",
    "    for ticker in tickers:\n",
    "        open_price_data = pd.merge(open_price_data, complete_data[ticker], how='inner', on='timestamp')    \n",
    "    \n",
    "    return open_price_data"
   ]
  },
  {
   "cell_type": "code",
   "execution_count": 6,
   "metadata": {},
   "outputs": [],
   "source": [
    "def portfolio_value(portfolio):\n",
    "    prices = open_prices()\n",
    "    portfolio_value = prices['BTCUSDT']*portfolio['BTC']\n",
    "    for token in tokens:\n",
    "        symbol = tokens[token]['symbol']\n",
    "        if symbol != 'BTC':\n",
    "            symbol_usd = symbol + 'USDT'\n",
    "            portfolio_value = portfolio_value + prices[symbol_usd]*portfolio[symbol]\n",
    "    return pd.DataFrame(data={'Value':portfolio_value.values}, index=prices['timestamp'].values)"
   ]
  },
  {
   "cell_type": "code",
   "execution_count": 7,
   "metadata": {},
   "outputs": [],
   "source": [
    "# https://towardsdatascience.com/learn-to-calculate-your-portfolios-value-at-risk-e1e2c5c68456\n",
    "\n",
    "def CalculateVaR_ES(portfolio_value, Percentile=99, Days=1):\n",
    "    current_value = portfolio_value['Value'][-1]\n",
    "    # calculate all possible values with historical rate of returns\n",
    "    dollar_change = portfolio_value['Value'].pct_change().values[1:]*portfolio_value['Value'][-1]\n",
    "    dollar_change.sort()\n",
    "    ValueLocForPercentile = round(len(dollar_change) * (1 - (Percentile / 100)))\n",
    "    \n",
    "    # we assume normally iid observations, so we can multiply by sqrt(Days) to extend the loss to a given number of days\n",
    "    VaR = dollar_change[ValueLocForPercentile + 1]*np.sqrt(Days)\n",
    "    ES = dollar_change[0:ValueLocForPercentile].mean()*np.sqrt(Days)\n",
    "    \n",
    "    return VaR, ES"
   ]
  },
  {
   "cell_type": "code",
   "execution_count": null,
   "metadata": {},
   "outputs": [],
   "source": []
  },
  {
   "cell_type": "code",
   "execution_count": null,
   "metadata": {},
   "outputs": [],
   "source": []
  },
  {
   "cell_type": "code",
   "execution_count": null,
   "metadata": {},
   "outputs": [],
   "source": []
  },
  {
   "cell_type": "code",
   "execution_count": null,
   "metadata": {},
   "outputs": [],
   "source": []
  },
  {
   "cell_type": "code",
   "execution_count": null,
   "metadata": {},
   "outputs": [],
   "source": []
  },
  {
   "cell_type": "code",
   "execution_count": null,
   "metadata": {},
   "outputs": [],
   "source": []
  },
  {
   "cell_type": "code",
   "execution_count": null,
   "metadata": {},
   "outputs": [],
   "source": []
  }
 ],
 "metadata": {
  "kernelspec": {
   "display_name": "Python 3",
   "language": "python",
   "name": "python3"
  },
  "language_info": {
   "codemirror_mode": {
    "name": "ipython",
    "version": 3
   },
   "file_extension": ".py",
   "mimetype": "text/x-python",
   "name": "python",
   "nbconvert_exporter": "python",
   "pygments_lexer": "ipython3",
   "version": "3.7.4"
  }
 },
 "nbformat": 4,
 "nbformat_minor": 2
}
