{
 "cells": [
  {
   "cell_type": "code",
   "execution_count": 1,
   "metadata": {},
   "outputs": [
    {
     "name": "stdout",
     "output_type": "stream",
     "text": [
      "importing Jupyter notebook from Process_Data.ipynb\n",
      "importing Jupyter notebook from import_data.ipynb\n"
     ]
    }
   ],
   "source": [
    "import import_ipynb\n",
    "import Process_Data"
   ]
  },
  {
   "cell_type": "code",
   "execution_count": 2,
   "metadata": {},
   "outputs": [],
   "source": [
    "Process_Data.init()"
   ]
  },
  {
   "cell_type": "code",
   "execution_count": 3,
   "metadata": {},
   "outputs": [
    {
     "name": "stdout",
     "output_type": "stream",
     "text": [
      "Downloading 7200 minutes of new data available for BTCUSDT, i.e. 5 instances of 1d data.\n",
      "All caught up..!\n",
      "Downloading 7200 minutes of new data available for ETHUSDT, i.e. 5 instances of 1d data.\n",
      "All caught up..!\n",
      "Downloading 7200 minutes of new data available for LTCUSDT, i.e. 5 instances of 1d data.\n",
      "All caught up..!\n",
      "Downloading 7200 minutes of new data available for ADAUSDT, i.e. 5 instances of 1d data.\n",
      "All caught up..!\n",
      "Downloading 7200 minutes of new data available for XRPUSDT, i.e. 5 instances of 1d data.\n",
      "All caught up..!\n",
      "Downloading 7200 minutes of new data available for EOSUSDT, i.e. 5 instances of 1d data.\n",
      "All caught up..!\n",
      "Downloading 7200 minutes of new data available for IOTAUSDT, i.e. 5 instances of 1d data.\n",
      "All caught up..!\n",
      "Downloading 7200 minutes of new data available for XLMUSDT, i.e. 5 instances of 1d data.\n",
      "All caught up..!\n",
      "Downloading 7200 minutes of new data available for TRXUSDT, i.e. 5 instances of 1d data.\n",
      "All caught up..!\n",
      "Downloading 7200 minutes of new data available for LINKUSDT, i.e. 5 instances of 1d data.\n",
      "All caught up..!\n",
      "Downloading 7200 minutes of new data available for XMRUSDT, i.e. 5 instances of 1d data.\n",
      "All caught up..!\n",
      "Downloading 7200 minutes of new data available for DASHUSDT, i.e. 5 instances of 1d data.\n",
      "All caught up..!\n",
      "Downloading all available 1d data for XTZUSDT. Be patient..!\n",
      "All caught up..!\n"
     ]
    }
   ],
   "source": [
    "Process_Data.update_data()"
   ]
  },
  {
   "cell_type": "code",
   "execution_count": 4,
   "metadata": {},
   "outputs": [
    {
     "name": "stdout",
     "output_type": "stream",
     "text": [
      "The following are the available tokens to build your portfolio:\n",
      "\n",
      "      Name     Symbol                                Reference\n",
      "--------------------------------------------------------------\n",
      "   Bitcoin        BTC                  https://bitcoin.org/en/\n",
      "  Ethereum        ETH                     https://ethereum.org\n",
      "  Litecoin        LTC                     https://litecoin.org\n",
      "   Cardano        ADA         https://www.cardano.org/en/home/\n",
      "    Ripple        XRP                       https://ripple.com\n",
      "     EOSIO        EOS                           https://eos.io\n",
      "      IOTA       IOTA                     https://www.iota.org\n",
      "   Stellar        XLM                  https://www.stellar.org\n",
      "      Tron        TRX                     https://tron.network\n",
      " Chainlink       LINK                       https://chain.link\n",
      "    Monero        XMR                https://www.getmonero.org\n",
      "      Dash       DASH                     https://www.dash.org\n",
      "     Tezos        XTZ                    https://www.tezos.com\n"
     ]
    }
   ],
   "source": [
    "Process_Data.show_tokens()"
   ]
  },
  {
   "cell_type": "code",
   "execution_count": 5,
   "metadata": {},
   "outputs": [],
   "source": [
    "prices = Process_Data.open_prices()"
   ]
  },
  {
   "cell_type": "code",
   "execution_count": 6,
   "metadata": {},
   "outputs": [
    {
     "data": {
      "text/html": [
       "<div>\n",
       "<style scoped>\n",
       "    .dataframe tbody tr th:only-of-type {\n",
       "        vertical-align: middle;\n",
       "    }\n",
       "\n",
       "    .dataframe tbody tr th {\n",
       "        vertical-align: top;\n",
       "    }\n",
       "\n",
       "    .dataframe thead th {\n",
       "        text-align: right;\n",
       "    }\n",
       "</style>\n",
       "<table border=\"1\" class=\"dataframe\">\n",
       "  <thead>\n",
       "    <tr style=\"text-align: right;\">\n",
       "      <th></th>\n",
       "      <th>timestamp</th>\n",
       "      <th>BTCUSDT</th>\n",
       "      <th>ETHUSDT</th>\n",
       "      <th>LTCUSDT</th>\n",
       "      <th>ADAUSDT</th>\n",
       "      <th>XRPUSDT</th>\n",
       "      <th>EOSUSDT</th>\n",
       "      <th>IOTAUSDT</th>\n",
       "      <th>XLMUSDT</th>\n",
       "      <th>TRXUSDT</th>\n",
       "      <th>LINKUSDT</th>\n",
       "      <th>XMRUSDT</th>\n",
       "      <th>DASHUSDT</th>\n",
       "      <th>XTZUSDT</th>\n",
       "    </tr>\n",
       "  </thead>\n",
       "  <tbody>\n",
       "    <tr>\n",
       "      <td>0</td>\n",
       "      <td>2019-09-24</td>\n",
       "      <td>9702.20</td>\n",
       "      <td>201.25</td>\n",
       "      <td>66.54</td>\n",
       "      <td>0.04635</td>\n",
       "      <td>0.26787</td>\n",
       "      <td>3.6906</td>\n",
       "      <td>0.2779</td>\n",
       "      <td>0.06357</td>\n",
       "      <td>0.01596</td>\n",
       "      <td>1.8034</td>\n",
       "      <td>68.37</td>\n",
       "      <td>86.78</td>\n",
       "      <td>1.0150</td>\n",
       "    </tr>\n",
       "    <tr>\n",
       "      <td>1</td>\n",
       "      <td>2019-09-25</td>\n",
       "      <td>8497.55</td>\n",
       "      <td>165.72</td>\n",
       "      <td>54.57</td>\n",
       "      <td>0.03724</td>\n",
       "      <td>0.23282</td>\n",
       "      <td>2.7625</td>\n",
       "      <td>0.2536</td>\n",
       "      <td>0.05275</td>\n",
       "      <td>0.01255</td>\n",
       "      <td>1.7135</td>\n",
       "      <td>58.70</td>\n",
       "      <td>71.50</td>\n",
       "      <td>0.8711</td>\n",
       "    </tr>\n",
       "    <tr>\n",
       "      <td>2</td>\n",
       "      <td>2019-09-26</td>\n",
       "      <td>8430.05</td>\n",
       "      <td>169.96</td>\n",
       "      <td>57.48</td>\n",
       "      <td>0.03917</td>\n",
       "      <td>0.24567</td>\n",
       "      <td>2.8689</td>\n",
       "      <td>0.2600</td>\n",
       "      <td>0.05733</td>\n",
       "      <td>0.01316</td>\n",
       "      <td>1.7476</td>\n",
       "      <td>59.86</td>\n",
       "      <td>72.71</td>\n",
       "      <td>0.8521</td>\n",
       "    </tr>\n",
       "    <tr>\n",
       "      <td>3</td>\n",
       "      <td>2019-09-27</td>\n",
       "      <td>8063.49</td>\n",
       "      <td>165.92</td>\n",
       "      <td>55.17</td>\n",
       "      <td>0.03818</td>\n",
       "      <td>0.24230</td>\n",
       "      <td>2.7815</td>\n",
       "      <td>0.2667</td>\n",
       "      <td>0.05842</td>\n",
       "      <td>0.01276</td>\n",
       "      <td>1.6512</td>\n",
       "      <td>57.17</td>\n",
       "      <td>68.66</td>\n",
       "      <td>0.8451</td>\n",
       "    </tr>\n",
       "    <tr>\n",
       "      <td>4</td>\n",
       "      <td>2019-09-28</td>\n",
       "      <td>8177.47</td>\n",
       "      <td>173.83</td>\n",
       "      <td>55.86</td>\n",
       "      <td>0.03911</td>\n",
       "      <td>0.24209</td>\n",
       "      <td>2.8296</td>\n",
       "      <td>0.2633</td>\n",
       "      <td>0.05888</td>\n",
       "      <td>0.01361</td>\n",
       "      <td>1.6593</td>\n",
       "      <td>57.56</td>\n",
       "      <td>71.25</td>\n",
       "      <td>0.8866</td>\n",
       "    </tr>\n",
       "    <tr>\n",
       "      <td>...</td>\n",
       "      <td>...</td>\n",
       "      <td>...</td>\n",
       "      <td>...</td>\n",
       "      <td>...</td>\n",
       "      <td>...</td>\n",
       "      <td>...</td>\n",
       "      <td>...</td>\n",
       "      <td>...</td>\n",
       "      <td>...</td>\n",
       "      <td>...</td>\n",
       "      <td>...</td>\n",
       "      <td>...</td>\n",
       "      <td>...</td>\n",
       "      <td>...</td>\n",
       "    </tr>\n",
       "    <tr>\n",
       "      <td>70</td>\n",
       "      <td>2019-12-03</td>\n",
       "      <td>7294.42</td>\n",
       "      <td>148.66</td>\n",
       "      <td>45.44</td>\n",
       "      <td>0.03793</td>\n",
       "      <td>0.21904</td>\n",
       "      <td>2.6734</td>\n",
       "      <td>0.2077</td>\n",
       "      <td>0.05571</td>\n",
       "      <td>0.01520</td>\n",
       "      <td>2.0913</td>\n",
       "      <td>53.91</td>\n",
       "      <td>51.62</td>\n",
       "      <td>1.2393</td>\n",
       "    </tr>\n",
       "    <tr>\n",
       "      <td>71</td>\n",
       "      <td>2019-12-04</td>\n",
       "      <td>7292.71</td>\n",
       "      <td>147.19</td>\n",
       "      <td>44.76</td>\n",
       "      <td>0.03774</td>\n",
       "      <td>0.21950</td>\n",
       "      <td>2.6944</td>\n",
       "      <td>0.2027</td>\n",
       "      <td>0.05572</td>\n",
       "      <td>0.01517</td>\n",
       "      <td>2.1222</td>\n",
       "      <td>53.28</td>\n",
       "      <td>51.31</td>\n",
       "      <td>1.2898</td>\n",
       "    </tr>\n",
       "    <tr>\n",
       "      <td>72</td>\n",
       "      <td>2019-12-05</td>\n",
       "      <td>7194.59</td>\n",
       "      <td>145.45</td>\n",
       "      <td>44.64</td>\n",
       "      <td>0.03711</td>\n",
       "      <td>0.21398</td>\n",
       "      <td>2.6263</td>\n",
       "      <td>0.1963</td>\n",
       "      <td>0.05471</td>\n",
       "      <td>0.01426</td>\n",
       "      <td>2.0282</td>\n",
       "      <td>52.66</td>\n",
       "      <td>50.18</td>\n",
       "      <td>1.2407</td>\n",
       "    </tr>\n",
       "    <tr>\n",
       "      <td>73</td>\n",
       "      <td>2019-12-06</td>\n",
       "      <td>7389.00</td>\n",
       "      <td>148.11</td>\n",
       "      <td>44.78</td>\n",
       "      <td>0.03756</td>\n",
       "      <td>0.22118</td>\n",
       "      <td>2.6823</td>\n",
       "      <td>0.2041</td>\n",
       "      <td>0.05538</td>\n",
       "      <td>0.01449</td>\n",
       "      <td>2.0059</td>\n",
       "      <td>53.74</td>\n",
       "      <td>49.95</td>\n",
       "      <td>1.2874</td>\n",
       "    </tr>\n",
       "    <tr>\n",
       "      <td>74</td>\n",
       "      <td>2019-12-07</td>\n",
       "      <td>7527.80</td>\n",
       "      <td>148.46</td>\n",
       "      <td>45.26</td>\n",
       "      <td>0.03823</td>\n",
       "      <td>0.22554</td>\n",
       "      <td>2.7241</td>\n",
       "      <td>0.2048</td>\n",
       "      <td>0.05530</td>\n",
       "      <td>0.01468</td>\n",
       "      <td>2.0918</td>\n",
       "      <td>54.11</td>\n",
       "      <td>52.50</td>\n",
       "      <td>1.3770</td>\n",
       "    </tr>\n",
       "  </tbody>\n",
       "</table>\n",
       "<p>75 rows × 14 columns</p>\n",
       "</div>"
      ],
      "text/plain": [
       "     timestamp  BTCUSDT  ETHUSDT  LTCUSDT  ADAUSDT  XRPUSDT  EOSUSDT  \\\n",
       "0   2019-09-24  9702.20   201.25    66.54  0.04635  0.26787   3.6906   \n",
       "1   2019-09-25  8497.55   165.72    54.57  0.03724  0.23282   2.7625   \n",
       "2   2019-09-26  8430.05   169.96    57.48  0.03917  0.24567   2.8689   \n",
       "3   2019-09-27  8063.49   165.92    55.17  0.03818  0.24230   2.7815   \n",
       "4   2019-09-28  8177.47   173.83    55.86  0.03911  0.24209   2.8296   \n",
       "..         ...      ...      ...      ...      ...      ...      ...   \n",
       "70  2019-12-03  7294.42   148.66    45.44  0.03793  0.21904   2.6734   \n",
       "71  2019-12-04  7292.71   147.19    44.76  0.03774  0.21950   2.6944   \n",
       "72  2019-12-05  7194.59   145.45    44.64  0.03711  0.21398   2.6263   \n",
       "73  2019-12-06  7389.00   148.11    44.78  0.03756  0.22118   2.6823   \n",
       "74  2019-12-07  7527.80   148.46    45.26  0.03823  0.22554   2.7241   \n",
       "\n",
       "    IOTAUSDT  XLMUSDT  TRXUSDT  LINKUSDT  XMRUSDT  DASHUSDT  XTZUSDT  \n",
       "0     0.2779  0.06357  0.01596    1.8034    68.37     86.78   1.0150  \n",
       "1     0.2536  0.05275  0.01255    1.7135    58.70     71.50   0.8711  \n",
       "2     0.2600  0.05733  0.01316    1.7476    59.86     72.71   0.8521  \n",
       "3     0.2667  0.05842  0.01276    1.6512    57.17     68.66   0.8451  \n",
       "4     0.2633  0.05888  0.01361    1.6593    57.56     71.25   0.8866  \n",
       "..       ...      ...      ...       ...      ...       ...      ...  \n",
       "70    0.2077  0.05571  0.01520    2.0913    53.91     51.62   1.2393  \n",
       "71    0.2027  0.05572  0.01517    2.1222    53.28     51.31   1.2898  \n",
       "72    0.1963  0.05471  0.01426    2.0282    52.66     50.18   1.2407  \n",
       "73    0.2041  0.05538  0.01449    2.0059    53.74     49.95   1.2874  \n",
       "74    0.2048  0.05530  0.01468    2.0918    54.11     52.50   1.3770  \n",
       "\n",
       "[75 rows x 14 columns]"
      ]
     },
     "execution_count": 6,
     "metadata": {},
     "output_type": "execute_result"
    }
   ],
   "source": [
    "prices"
   ]
  },
  {
   "cell_type": "code",
   "execution_count": 7,
   "metadata": {},
   "outputs": [
    {
     "data": {
      "text/plain": [
       "{'BTC': 0.0,\n",
       " 'ETH': 0.0,\n",
       " 'LTC': 0.0,\n",
       " 'ADA': 0.0,\n",
       " 'XRP': 0.0,\n",
       " 'EOS': 0.0,\n",
       " 'IOTA': 0.0,\n",
       " 'XLM': 0.0,\n",
       " 'TRX': 0.0,\n",
       " 'LINK': 0.0,\n",
       " 'XMR': 0.0,\n",
       " 'DASH': 0.0,\n",
       " 'XTZ': 0.0}"
      ]
     },
     "execution_count": 7,
     "metadata": {},
     "output_type": "execute_result"
    }
   ],
   "source": [
    "tokens = Process_Data.tokens\n",
    "\n",
    "test_portfolio = {}\n",
    "for i, token in enumerate(tokens,1):\n",
    "    test_portfolio[tokens[token]['symbol']] = 0.0\n",
    "test_portfolio"
   ]
  },
  {
   "cell_type": "code",
   "execution_count": 8,
   "metadata": {},
   "outputs": [],
   "source": [
    "test_portfolio['XTZ'] = 100.0"
   ]
  },
  {
   "cell_type": "code",
   "execution_count": 9,
   "metadata": {},
   "outputs": [],
   "source": [
    "portfolio_value = Process_Data.portfolio_value(test_portfolio)"
   ]
  },
  {
   "cell_type": "code",
   "execution_count": 10,
   "metadata": {},
   "outputs": [
    {
     "data": {
      "image/png": "[encoded data removed]",
      "text/plain": [
       "<Figure size 432x288 with 1 Axes>"
      ]
     },
     "metadata": {
      "needs_background": "light"
     },
     "output_type": "display_data"
    }
   ],
   "source": [
    "ax = portfolio_value.plot()"
   ]
  },
  {
   "cell_type": "code",
   "execution_count": 11,
   "metadata": {},
   "outputs": [
    {
     "data": {
      "text/plain": [
       "(-8.690656584562428, -19.522197044334963)"
      ]
     },
     "execution_count": 11,
     "metadata": {},
     "output_type": "execute_result"
    }
   ],
   "source": [
    "Process_Data.CalculateVaR_ES(portfolio_value, 99, 1)"
   ]
  },
  {
   "cell_type": "code",
   "execution_count": null,
   "metadata": {},
   "outputs": [],
   "source": []
  },
  {
   "cell_type": "code",
   "execution_count": null,
   "metadata": {},
   "outputs": [],
   "source": []
  }
 ],
 "metadata": {
  "kernelspec": {
   "display_name": "Python 3",
   "language": "python",
   "name": "python3"
  },
  "language_info": {
   "codemirror_mode": {
    "name": "ipython",
    "version": 3
   },
   "file_extension": ".py",
   "mimetype": "text/x-python",
   "name": "python",
   "nbconvert_exporter": "python",
   "pygments_lexer": "ipython3",
   "version": "3.7.4"
  }
 },
 "nbformat": 4,
 "nbformat_minor": 2
}
